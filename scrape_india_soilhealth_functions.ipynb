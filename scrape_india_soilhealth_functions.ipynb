{
 "cells": [
  {
   "cell_type": "markdown",
   "metadata": {},
   "source": [
    "# This is Markdown text?"
   ]
  },
  {
   "cell_type": "markdown",
   "metadata": {},
   "source": [
    "## Prepare python"
   ]
  },
  {
   "cell_type": "code",
   "execution_count": 156,
   "metadata": {},
   "outputs": [],
   "source": [
    "from time import sleep\n",
    "from selenium import webdriver\n",
    "from selenium.webdriver.common.keys import Keys\n",
    "\n",
    "\n",
    "\n",
    "driver = webdriver.Chrome('/Users/gopal/opt/anaconda3/bin/chromedriver')\n",
    "\n",
    "# browser.get('https://www.facebook.com/')\n",
    "# sleep(5)\n",
    "# driver.close()"
   ]
  },
  {
   "cell_type": "code",
   "execution_count": 157,
   "metadata": {},
   "outputs": [],
   "source": [
    "from selenium.webdriver.common.by import By\n",
    "from selenium.webdriver.support.ui import Select\n",
    "from selenium.webdriver.support.ui import WebDriverWait\n",
    "from selenium.webdriver.support import expected_conditions as EC\n",
    "from bs4 import BeautifulSoup\n",
    "import requests\n",
    "import os\n",
    "import subprocess\n",
    "import re\n",
    "import pandas as pd\n",
    "import numpy as np"
   ]
  },
  {
   "cell_type": "code",
   "execution_count": 158,
   "metadata": {},
   "outputs": [],
   "source": [
    "paths = {'data_filepath': \"/Users/gopal/Projects/DataScience/india_soilhealth/data\",\n",
    "         'index_filepath': \"/Users/gopal/Projects/DataScience/india_soilhealth/index\",\n",
    "         'download_filepath': \"/Users/gopal/Downloads/NutrientsStatusReportFarmerWise.csv\"\n",
    "}"
   ]
  },
  {
   "cell_type": "code",
   "execution_count": 159,
   "metadata": {},
   "outputs": [],
   "source": [
    "# elem.send_keys(Keys.RETURN)"
   ]
  },
  {
   "cell_type": "code",
   "execution_count": 160,
   "metadata": {},
   "outputs": [],
   "source": [
    "driver.get(\"https://soilhealth.dac.gov.in/PublicReports/NutrientsStatusReportFarmerWise\")"
   ]
  },
  {
   "cell_type": "code",
   "execution_count": 161,
   "metadata": {},
   "outputs": [],
   "source": [
    "\n",
    "# for i in range(len(state_dropdown.options)):\n",
    "#     if i > 0:\n",
    "#         print(state_dropdown.options[i].get_attribute('innerText'), state_dropdown.options[i].get_attribute('index'))"
   ]
  },
  {
   "cell_type": "code",
   "execution_count": null,
   "metadata": {},
   "outputs": [],
   "source": []
  },
  {
   "cell_type": "code",
   "execution_count": null,
   "metadata": {},
   "outputs": [],
   "source": []
  },
  {
   "cell_type": "code",
   "execution_count": 162,
   "metadata": {},
   "outputs": [],
   "source": [
    "def get_state_districts(si, smeta, paths, driver):\n",
    "    #     si = 3\n",
    "    state_dropdown.select_by_index(smeta['states_index'][si])\n",
    "    state_name = smeta['states'][si]\n",
    "    sleep(2)\n",
    "    # print(states[si]  + \" \" + states_index[si])\n",
    "\n",
    "    # Load districts from dropdown\n",
    "    district_dropdown = Select(driver.find_element_by_name(\"District_Code\"))\n",
    "\n",
    "    districts = []\n",
    "    districts_index = []\n",
    "    for i in range(len(district_dropdown.options)):\n",
    "        if i > 0:\n",
    "            districts.append(district_dropdown.options[i].get_attribute('innerText'))\n",
    "            districts_index.append(district_dropdown.options[i].get_attribute('index'))\n",
    "\n",
    "    # Save index of all subdistricts within the district\n",
    "    data = list(zip(np.repeat(smeta['states'][si], len(districts)), \n",
    "                    districts))\n",
    "\n",
    "    state_districts_df = pd.DataFrame(data, columns = ['State', 'District'])\n",
    "    state_filepath = os.path.join(paths['index_filepath'], state_name + \"_districts.csv\")\n",
    "    state_districts_df.to_csv(state_filepath)\n",
    "\n",
    "    dmeta = {\n",
    "        'state_name': state_name,\n",
    "        'districts': districts,\n",
    "        'districts_index': districts_index\n",
    "    }\n",
    "    return dmeta"
   ]
  },
  {
   "cell_type": "code",
   "execution_count": null,
   "metadata": {},
   "outputs": [],
   "source": []
  },
  {
   "cell_type": "code",
   "execution_count": null,
   "metadata": {},
   "outputs": [],
   "source": []
  },
  {
   "cell_type": "code",
   "execution_count": 163,
   "metadata": {},
   "outputs": [],
   "source": [
    "def get_district_subdists(di, dmeta, paths, driver):\n",
    "    #     di = 1\n",
    "    district_dropdown = Select(driver.find_element_by_name(\"District_Code\"))\n",
    "    district_dropdown.select_by_index(dmeta['districts_index'][di])\n",
    "    district_name = dmeta['districts'][di]\n",
    "\n",
    "    sleep(2)\n",
    "\n",
    "    # Load subdistricts from dropdown\n",
    "    subdist_dropdown = Select(driver.find_element_by_name(\"sub_district_code\"))\n",
    "\n",
    "    subdists = []\n",
    "    subdist_index = []\n",
    "    for i in range(len(subdist_dropdown.options)):\n",
    "        if i > 0:\n",
    "            subdists.append(subdist_dropdown.options[i].get_attribute('innerText'))\n",
    "            subdist_index.append(subdist_dropdown.options[i].get_attribute('index'))\n",
    "\n",
    "    # Save index of all subdistricts within the district\n",
    "    data = list(zip(np.repeat(dmeta['state_name'], len(subdists)), \n",
    "                    np.repeat(district_name, len(subdists)), \n",
    "                    subdists))\n",
    "\n",
    "    district_subdists_df = pd.DataFrame(data, columns = ['State', 'District', 'Subdistrict'])\n",
    "    district_filepath = os.path.join(paths['index_filepath'], dmeta['state_name'] + \"-\" + district_name + \"_subdists.csv\")\n",
    "    district_subdists_df.to_csv(district_filepath)\n",
    "\n",
    "    bmeta = {\n",
    "        'state_name': dmeta['state_name'],\n",
    "        'district_name': district_name,\n",
    "        'subdists': subdists,\n",
    "        'subdist_index': subdist_index\n",
    "    }\n",
    "\n",
    "    return bmeta"
   ]
  },
  {
   "cell_type": "code",
   "execution_count": 164,
   "metadata": {},
   "outputs": [],
   "source": [
    "def get_subdist_villages(bi, bmeta, paths, driver):\n",
    "    # bi = 1\n",
    "    subdist_dropdown = Select(driver.find_element_by_name(\"sub_district_code\"))\n",
    "    subdist_dropdown.select_by_index(bmeta['subdist_index'][bi])\n",
    "    subdist_name = bmeta['subdists'][bi]\n",
    "\n",
    "    sleep(2)\n",
    "\n",
    "    # Load villages from dropdown\n",
    "    village_dropdown = Select(driver.find_element_by_name(\"Village_Code\"))\n",
    "\n",
    "    villages = []\n",
    "    villages_index = []\n",
    "    for i in range(len(village_dropdown.options)):\n",
    "        if i > 0:\n",
    "            villages.append(village_dropdown.options[i].get_attribute('innerText'))\n",
    "            villages_index.append(village_dropdown.options[i].get_attribute('index'))\n",
    "\n",
    "    # Save index of all villages within the subdistrict\n",
    "    data = list(zip(np.repeat(bmeta['state_name'], len(villages)), \n",
    "                    np.repeat(bmeta['district_name'], len(villages)), \n",
    "                    np.repeat(subdist_name, len(villages)),\n",
    "                    villages))\n",
    "\n",
    "    subdist_villages_df = pd.DataFrame(data, columns = ['State', 'District', 'Subdistrict', 'Village'])\n",
    "    subdistrict_filepath = os.path.join(paths['index_filepath'], bmeta['state_name'] + \"-\" + bmeta['district_name'] + \"-\" + subdist_name + \"_villages.csv\")\n",
    "    subdist_villages_df.to_csv(subdistrict_filepath)\n",
    "    \n",
    "    # Get village info\n",
    "    # for vi in range(len(villages_index)):\n",
    "    vmeta = {\n",
    "        'state_name': bmeta['state_name'],\n",
    "        'district_name': bmeta['district_name'],\n",
    "        'subdist_name': subdist_name,\n",
    "        'villages': villages,\n",
    "        'villages_index': villages_index\n",
    "    }\n",
    "    \n",
    "    return vmeta"
   ]
  },
  {
   "cell_type": "code",
   "execution_count": 165,
   "metadata": {},
   "outputs": [],
   "source": [
    "def download_village_data(vi, vmeta, paths, driver):\n",
    "    \n",
    "    village_name = vmeta['villages'][vi]\n",
    "    village_filename = re.sub(\"[\\s\\/]\",\"\",\n",
    "                          os.path.join(vmeta['state_name'] + \"_\" + vmeta['district_name'] + \"_\" + vmeta['subdist_name'] + \"_\" + village_name + \".csv\"))\n",
    "\n",
    "\n",
    "    \n",
    "    village_filepath = os.path.join(paths['data_filepath'], village_filename)\n",
    "    \n",
    "\n",
    "    if not os.path.isfile(village_filepath):\n",
    "        driver.switch_to.default_content()\n",
    "\n",
    "        village_dropdown = Select(driver.find_element_by_name(\"Village_Code\"))\n",
    "        village_dropdown.select_by_index(vmeta['villages_index'][vi])\n",
    "        sleep(2)\n",
    "\n",
    "        # Click \"View\" button\n",
    "        view_button = driver.find_element_by_id('confirmLink')\n",
    "        view_button.click()\n",
    "        \n",
    "        # Remove old file while waiting to load\n",
    "        if os.path.isfile(paths['download_filepath']):\n",
    "            os.remove(paths['download_filepath'])\n",
    "        \n",
    "        # Wait 2 seconds before switching frames\n",
    "        sleep(2)\n",
    "\n",
    "        driver.switch_to.default_content()\n",
    "        \n",
    "        try:\n",
    "            element = WebDriverWait(driver, 15).until(\n",
    "                EC.frame_to_be_available_and_switch_to_it(0)\n",
    "            )\n",
    "        finally:\n",
    "            print('switched to frame')\n",
    "\n",
    "        try:\n",
    "            element = WebDriverWait(driver, 15).until(\n",
    "                EC.element_to_be_clickable((By.ID, 'ReportViewer1_ctl05_ctl04_ctl00_ButtonImg'))\n",
    "            )\n",
    "        finally:\n",
    "            print('got button')\n",
    "\n",
    "        # wait 1 second to ensure button can be clicked\n",
    "        sleep(2)\n",
    "\n",
    "\n",
    "        # Save the data\n",
    "        save_button = driver.find_element_by_id('ReportViewer1_ctl05_ctl04_ctl00_ButtonImg')\n",
    "        save_button.click()\n",
    "\n",
    "        try:\n",
    "            element = WebDriverWait(driver, 10).until(\n",
    "                EC.element_to_be_clickable((By.LINK_TEXT, 'CSV (comma delimited)'))\n",
    "            )\n",
    "        finally:\n",
    "            print('got csv button')\n",
    "\n",
    "        # wait 1 second to ensure button can be clicked\n",
    "        sleep(2)\n",
    "        csv_button = driver.find_element_by_link_text(\"CSV (comma delimited)\")\n",
    "        csv_button.click()\n",
    "\n",
    "        driver.switch_to.default_content()\n",
    "        \n",
    "        print('saved ' + village_filepath)\n",
    "\n",
    "        # \n",
    "        sleep(5)\n",
    "        os.rename(paths['download_filepath'], village_filepath)"
   ]
  },
  {
   "cell_type": "code",
   "execution_count": null,
   "metadata": {},
   "outputs": [],
   "source": []
  },
  {
   "cell_type": "code",
   "execution_count": 166,
   "metadata": {},
   "outputs": [],
   "source": [
    "# # Load states from States dropdown\n",
    "# state_dropdown = Select(driver.find_element_by_name(\"State_Code\"))\n",
    "\n",
    "# states = []\n",
    "# states_index = []\n",
    "# for i in range(len(state_dropdown.options)):\n",
    "#     if i > 0:\n",
    "#         states.append(state_dropdown.options[i].get_attribute('innerText'))\n",
    "#         states_index.append(state_dropdown.options[i].get_attribute('index'))\n",
    "        \n",
    "# smeta = {\n",
    "#         'states': states,\n",
    "#         'states_index': states_index\n",
    "#     }\n",
    "# si = 2\n",
    "# dmeta = get_state_districts(si, smeta, paths, driver)\n",
    "\n",
    "# di = 1\n",
    "# bmeta = get_district_subdists(di, dmeta, paths, driver)\n",
    "\n",
    "# bi = 1\n",
    "# vmeta = get_subdist_villages(bi, bmeta, paths, driver)"
   ]
  },
  {
   "cell_type": "code",
   "execution_count": 167,
   "metadata": {},
   "outputs": [],
   "source": [
    "# driver.switch_to.default_content()\n",
    "\n",
    "# village_dropdown = Select(driver.find_element_by_name(\"Village_Code\"))\n",
    "# village_dropdown.select_by_index(vmeta['villages_index'][vi])\n",
    "\n",
    "\n",
    "# view_button = driver.find_element_by_id('confirmLink')\n",
    "# view_button.click()\n",
    "\n"
   ]
  },
  {
   "cell_type": "code",
   "execution_count": 168,
   "metadata": {},
   "outputs": [
    {
     "name": "stdout",
     "output_type": "stream",
     "text": [
      "switched to frame\n",
      "got button\n",
      "got csv button\n",
      "saved /Users/gopal/Projects/DataScience/india_soilhealth/data/AndamanAndNicobarIslands_Nicobars_NANCOWRY_BANDERKARIPULU.csv\n",
      "switched to frame\n",
      "got button\n",
      "got csv button\n",
      "saved /Users/gopal/Projects/DataScience/india_soilhealth/data/AndamanAndNicobarIslands_Nicobars_NANCOWRY_BENGALI.csv\n",
      "switched to frame\n",
      "got button\n",
      "got csv button\n",
      "saved /Users/gopal/Projects/DataScience/india_soilhealth/data/AndamanAndNicobarIslands_Nicobars_NANCOWRY_BERAINAKBADNAK.csv\n",
      "switched to frame\n",
      "got button\n",
      "got csv button\n",
      "saved /Users/gopal/Projects/DataScience/india_soilhealth/data/AndamanAndNicobarIslands_Nicobars_NANCOWRY_BOMPOKAISLAND*.csv\n",
      "switched to frame\n",
      "got button\n"
     ]
    },
    {
     "ename": "NoSuchElementException",
     "evalue": "Message: no such element: Unable to locate element: {\"method\":\"css selector\",\"selector\":\"[id=\"ReportViewer1_ctl05_ctl04_ctl00_ButtonImg\"]\"}\n  (Session info: chrome=89.0.4389.114)\n",
     "output_type": "error",
     "traceback": [
      "\u001b[0;31m---------------------------------------------------------------------------\u001b[0m",
      "\u001b[0;31mNoSuchElementException\u001b[0m                    Traceback (most recent call last)",
      "\u001b[0;32m<ipython-input-168-ca7dd9f3864e>\u001b[0m in \u001b[0;36m<module>\u001b[0;34m\u001b[0m\n\u001b[1;32m     29\u001b[0m             \u001b[0;32mfor\u001b[0m \u001b[0mvi\u001b[0m \u001b[0;32min\u001b[0m \u001b[0mrange\u001b[0m\u001b[0;34m(\u001b[0m\u001b[0mlen\u001b[0m\u001b[0;34m(\u001b[0m\u001b[0mvmeta\u001b[0m\u001b[0;34m[\u001b[0m\u001b[0;34m'villages'\u001b[0m\u001b[0;34m]\u001b[0m\u001b[0;34m)\u001b[0m\u001b[0;34m)\u001b[0m\u001b[0;34m:\u001b[0m\u001b[0;34m\u001b[0m\u001b[0;34m\u001b[0m\u001b[0m\n\u001b[1;32m     30\u001b[0m                 \u001b[0;31m# vi = 2\u001b[0m\u001b[0;34m\u001b[0m\u001b[0;34m\u001b[0m\u001b[0;34m\u001b[0m\u001b[0m\n\u001b[0;32m---> 31\u001b[0;31m                 \u001b[0mdownload_village_data\u001b[0m\u001b[0;34m(\u001b[0m\u001b[0mvi\u001b[0m\u001b[0;34m,\u001b[0m \u001b[0mvmeta\u001b[0m\u001b[0;34m,\u001b[0m \u001b[0mpaths\u001b[0m\u001b[0;34m,\u001b[0m \u001b[0mdriver\u001b[0m\u001b[0;34m)\u001b[0m\u001b[0;34m\u001b[0m\u001b[0;34m\u001b[0m\u001b[0m\n\u001b[0m",
      "\u001b[0;32m<ipython-input-165-1501df97f82e>\u001b[0m in \u001b[0;36mdownload_village_data\u001b[0;34m(vi, vmeta, paths, driver)\u001b[0m\n\u001b[1;32m     49\u001b[0m \u001b[0;34m\u001b[0m\u001b[0m\n\u001b[1;32m     50\u001b[0m         \u001b[0;31m# Save the data\u001b[0m\u001b[0;34m\u001b[0m\u001b[0;34m\u001b[0m\u001b[0;34m\u001b[0m\u001b[0m\n\u001b[0;32m---> 51\u001b[0;31m         \u001b[0msave_button\u001b[0m \u001b[0;34m=\u001b[0m \u001b[0mdriver\u001b[0m\u001b[0;34m.\u001b[0m\u001b[0mfind_element_by_id\u001b[0m\u001b[0;34m(\u001b[0m\u001b[0;34m'ReportViewer1_ctl05_ctl04_ctl00_ButtonImg'\u001b[0m\u001b[0;34m)\u001b[0m\u001b[0;34m\u001b[0m\u001b[0;34m\u001b[0m\u001b[0m\n\u001b[0m\u001b[1;32m     52\u001b[0m         \u001b[0msave_button\u001b[0m\u001b[0;34m.\u001b[0m\u001b[0mclick\u001b[0m\u001b[0;34m(\u001b[0m\u001b[0;34m)\u001b[0m\u001b[0;34m\u001b[0m\u001b[0;34m\u001b[0m\u001b[0m\n\u001b[1;32m     53\u001b[0m \u001b[0;34m\u001b[0m\u001b[0m\n",
      "\u001b[0;32m~/opt/anaconda3/lib/python3.7/site-packages/selenium/webdriver/remote/webdriver.py\u001b[0m in \u001b[0;36mfind_element_by_id\u001b[0;34m(self, id_)\u001b[0m\n\u001b[1;32m    358\u001b[0m             \u001b[0melement\u001b[0m \u001b[0;34m=\u001b[0m \u001b[0mdriver\u001b[0m\u001b[0;34m.\u001b[0m\u001b[0mfind_element_by_id\u001b[0m\u001b[0;34m(\u001b[0m\u001b[0;34m'foo'\u001b[0m\u001b[0;34m)\u001b[0m\u001b[0;34m\u001b[0m\u001b[0;34m\u001b[0m\u001b[0m\n\u001b[1;32m    359\u001b[0m         \"\"\"\n\u001b[0;32m--> 360\u001b[0;31m         \u001b[0;32mreturn\u001b[0m \u001b[0mself\u001b[0m\u001b[0;34m.\u001b[0m\u001b[0mfind_element\u001b[0m\u001b[0;34m(\u001b[0m\u001b[0mby\u001b[0m\u001b[0;34m=\u001b[0m\u001b[0mBy\u001b[0m\u001b[0;34m.\u001b[0m\u001b[0mID\u001b[0m\u001b[0;34m,\u001b[0m \u001b[0mvalue\u001b[0m\u001b[0;34m=\u001b[0m\u001b[0mid_\u001b[0m\u001b[0;34m)\u001b[0m\u001b[0;34m\u001b[0m\u001b[0;34m\u001b[0m\u001b[0m\n\u001b[0m\u001b[1;32m    361\u001b[0m \u001b[0;34m\u001b[0m\u001b[0m\n\u001b[1;32m    362\u001b[0m     \u001b[0;32mdef\u001b[0m \u001b[0mfind_elements_by_id\u001b[0m\u001b[0;34m(\u001b[0m\u001b[0mself\u001b[0m\u001b[0;34m,\u001b[0m \u001b[0mid_\u001b[0m\u001b[0;34m)\u001b[0m\u001b[0;34m:\u001b[0m\u001b[0;34m\u001b[0m\u001b[0;34m\u001b[0m\u001b[0m\n",
      "\u001b[0;32m~/opt/anaconda3/lib/python3.7/site-packages/selenium/webdriver/remote/webdriver.py\u001b[0m in \u001b[0;36mfind_element\u001b[0;34m(self, by, value)\u001b[0m\n\u001b[1;32m    976\u001b[0m         return self.execute(Command.FIND_ELEMENT, {\n\u001b[1;32m    977\u001b[0m             \u001b[0;34m'using'\u001b[0m\u001b[0;34m:\u001b[0m \u001b[0mby\u001b[0m\u001b[0;34m,\u001b[0m\u001b[0;34m\u001b[0m\u001b[0;34m\u001b[0m\u001b[0m\n\u001b[0;32m--> 978\u001b[0;31m             'value': value})['value']\n\u001b[0m\u001b[1;32m    979\u001b[0m \u001b[0;34m\u001b[0m\u001b[0m\n\u001b[1;32m    980\u001b[0m     \u001b[0;32mdef\u001b[0m \u001b[0mfind_elements\u001b[0m\u001b[0;34m(\u001b[0m\u001b[0mself\u001b[0m\u001b[0;34m,\u001b[0m \u001b[0mby\u001b[0m\u001b[0;34m=\u001b[0m\u001b[0mBy\u001b[0m\u001b[0;34m.\u001b[0m\u001b[0mID\u001b[0m\u001b[0;34m,\u001b[0m \u001b[0mvalue\u001b[0m\u001b[0;34m=\u001b[0m\u001b[0;32mNone\u001b[0m\u001b[0;34m)\u001b[0m\u001b[0;34m:\u001b[0m\u001b[0;34m\u001b[0m\u001b[0;34m\u001b[0m\u001b[0m\n",
      "\u001b[0;32m~/opt/anaconda3/lib/python3.7/site-packages/selenium/webdriver/remote/webdriver.py\u001b[0m in \u001b[0;36mexecute\u001b[0;34m(self, driver_command, params)\u001b[0m\n\u001b[1;32m    319\u001b[0m         \u001b[0mresponse\u001b[0m \u001b[0;34m=\u001b[0m \u001b[0mself\u001b[0m\u001b[0;34m.\u001b[0m\u001b[0mcommand_executor\u001b[0m\u001b[0;34m.\u001b[0m\u001b[0mexecute\u001b[0m\u001b[0;34m(\u001b[0m\u001b[0mdriver_command\u001b[0m\u001b[0;34m,\u001b[0m \u001b[0mparams\u001b[0m\u001b[0;34m)\u001b[0m\u001b[0;34m\u001b[0m\u001b[0;34m\u001b[0m\u001b[0m\n\u001b[1;32m    320\u001b[0m         \u001b[0;32mif\u001b[0m \u001b[0mresponse\u001b[0m\u001b[0;34m:\u001b[0m\u001b[0;34m\u001b[0m\u001b[0;34m\u001b[0m\u001b[0m\n\u001b[0;32m--> 321\u001b[0;31m             \u001b[0mself\u001b[0m\u001b[0;34m.\u001b[0m\u001b[0merror_handler\u001b[0m\u001b[0;34m.\u001b[0m\u001b[0mcheck_response\u001b[0m\u001b[0;34m(\u001b[0m\u001b[0mresponse\u001b[0m\u001b[0;34m)\u001b[0m\u001b[0;34m\u001b[0m\u001b[0;34m\u001b[0m\u001b[0m\n\u001b[0m\u001b[1;32m    322\u001b[0m             response['value'] = self._unwrap_value(\n\u001b[1;32m    323\u001b[0m                 response.get('value', None))\n",
      "\u001b[0;32m~/opt/anaconda3/lib/python3.7/site-packages/selenium/webdriver/remote/errorhandler.py\u001b[0m in \u001b[0;36mcheck_response\u001b[0;34m(self, response)\u001b[0m\n\u001b[1;32m    240\u001b[0m                 \u001b[0malert_text\u001b[0m \u001b[0;34m=\u001b[0m \u001b[0mvalue\u001b[0m\u001b[0;34m[\u001b[0m\u001b[0;34m'alert'\u001b[0m\u001b[0;34m]\u001b[0m\u001b[0;34m.\u001b[0m\u001b[0mget\u001b[0m\u001b[0;34m(\u001b[0m\u001b[0;34m'text'\u001b[0m\u001b[0;34m)\u001b[0m\u001b[0;34m\u001b[0m\u001b[0;34m\u001b[0m\u001b[0m\n\u001b[1;32m    241\u001b[0m             \u001b[0;32mraise\u001b[0m \u001b[0mexception_class\u001b[0m\u001b[0;34m(\u001b[0m\u001b[0mmessage\u001b[0m\u001b[0;34m,\u001b[0m \u001b[0mscreen\u001b[0m\u001b[0;34m,\u001b[0m \u001b[0mstacktrace\u001b[0m\u001b[0;34m,\u001b[0m \u001b[0malert_text\u001b[0m\u001b[0;34m)\u001b[0m\u001b[0;34m\u001b[0m\u001b[0;34m\u001b[0m\u001b[0m\n\u001b[0;32m--> 242\u001b[0;31m         \u001b[0;32mraise\u001b[0m \u001b[0mexception_class\u001b[0m\u001b[0;34m(\u001b[0m\u001b[0mmessage\u001b[0m\u001b[0;34m,\u001b[0m \u001b[0mscreen\u001b[0m\u001b[0;34m,\u001b[0m \u001b[0mstacktrace\u001b[0m\u001b[0;34m)\u001b[0m\u001b[0;34m\u001b[0m\u001b[0;34m\u001b[0m\u001b[0m\n\u001b[0m\u001b[1;32m    243\u001b[0m \u001b[0;34m\u001b[0m\u001b[0m\n\u001b[1;32m    244\u001b[0m     \u001b[0;32mdef\u001b[0m \u001b[0m_value_or_default\u001b[0m\u001b[0;34m(\u001b[0m\u001b[0mself\u001b[0m\u001b[0;34m,\u001b[0m \u001b[0mobj\u001b[0m\u001b[0;34m,\u001b[0m \u001b[0mkey\u001b[0m\u001b[0;34m,\u001b[0m \u001b[0mdefault\u001b[0m\u001b[0;34m)\u001b[0m\u001b[0;34m:\u001b[0m\u001b[0;34m\u001b[0m\u001b[0;34m\u001b[0m\u001b[0m\n",
      "\u001b[0;31mNoSuchElementException\u001b[0m: Message: no such element: Unable to locate element: {\"method\":\"css selector\",\"selector\":\"[id=\"ReportViewer1_ctl05_ctl04_ctl00_ButtonImg\"]\"}\n  (Session info: chrome=89.0.4389.114)\n"
     ]
    }
   ],
   "source": [
    "# Load states from States dropdown\n",
    "driver.switch_to.default_content()\n",
    "state_dropdown = Select(driver.find_element_by_name(\"State_Code\"))\n",
    "\n",
    "states = []\n",
    "states_index = []\n",
    "for i in range(len(state_dropdown.options)):\n",
    "    if i > 0:\n",
    "        states.append(state_dropdown.options[i].get_attribute('innerText'))\n",
    "        states_index.append(state_dropdown.options[i].get_attribute('index'))\n",
    "        \n",
    "smeta = {\n",
    "        'states': states,\n",
    "        'states_index': states_index\n",
    "    }\n",
    "\n",
    "for si in range(len(states_index)):\n",
    "    # si = 4\n",
    "    dmeta = get_state_districts(si, smeta, paths, driver)\n",
    "    \n",
    "    for di in range(len(dmeta['districts'])):\n",
    "        # di = 4\n",
    "        bmeta = get_district_subdists(di, dmeta, paths, driver)\n",
    "        \n",
    "        for bi in range(len(bmeta['subdists'])):\n",
    "            # bi = 2\n",
    "            vmeta = get_subdist_villages(bi, bmeta, paths, driver)\n",
    "            \n",
    "            for vi in range(len(vmeta['villages'])):\n",
    "                # vi = 2\n",
    "                download_village_data(vi, vmeta, paths, driver)"
   ]
  },
  {
   "cell_type": "code",
   "execution_count": null,
   "metadata": {},
   "outputs": [],
   "source": [
    "vi"
   ]
  },
  {
   "cell_type": "code",
   "execution_count": null,
   "metadata": {},
   "outputs": [],
   "source": [
    "bi"
   ]
  },
  {
   "cell_type": "code",
   "execution_count": null,
   "metadata": {},
   "outputs": [],
   "source": [
    "di"
   ]
  },
  {
   "cell_type": "code",
   "execution_count": null,
   "metadata": {},
   "outputs": [],
   "source": [
    "si"
   ]
  },
  {
   "cell_type": "code",
   "execution_count": null,
   "metadata": {},
   "outputs": [],
   "source": []
  }
 ],
 "metadata": {
  "kernelspec": {
   "display_name": "Python 3",
   "language": "python",
   "name": "python3"
  },
  "language_info": {
   "codemirror_mode": {
    "name": "ipython",
    "version": 3
   },
   "file_extension": ".py",
   "mimetype": "text/x-python",
   "name": "python",
   "nbconvert_exporter": "python",
   "pygments_lexer": "ipython3",
   "version": "3.7.4"
  }
 },
 "nbformat": 4,
 "nbformat_minor": 2
}
