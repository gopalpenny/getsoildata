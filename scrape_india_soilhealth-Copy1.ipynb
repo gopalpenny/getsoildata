{
 "cells": [
  {
   "cell_type": "markdown",
   "metadata": {},
   "source": [
    "# This is Markdown text?"
   ]
  },
  {
   "cell_type": "markdown",
   "metadata": {},
   "source": [
    "## Prepare python"
   ]
  },
  {
   "cell_type": "code",
   "execution_count": 144,
   "metadata": {},
   "outputs": [],
   "source": [
    "from time import sleep\n",
    "from selenium import webdriver\n",
    "from selenium.webdriver.common.keys import Keys\n",
    "\n",
    "\n",
    "\n",
    "driver = webdriver.Chrome('/Users/gopal/opt/anaconda3/bin/chromedriver')\n",
    "\n",
    "# browser.get('https://www.facebook.com/')\n",
    "# sleep(5)\n",
    "# driver.close()"
   ]
  },
  {
   "cell_type": "code",
   "execution_count": 145,
   "metadata": {},
   "outputs": [],
   "source": [
    "from selenium.webdriver.common.by import By\n",
    "from selenium.webdriver.support.ui import Select\n",
    "from selenium.webdriver.support.ui import WebDriverWait\n",
    "from selenium.webdriver.support import expected_conditions as EC\n",
    "from bs4 import BeautifulSoup\n",
    "import requests\n",
    "import os\n",
    "import subprocess\n",
    "import re\n",
    "import pandas as pd\n",
    "import numpy as np"
   ]
  },
  {
   "cell_type": "code",
   "execution_count": 146,
   "metadata": {},
   "outputs": [],
   "source": [
    "data_filepath = \"/Users/gopal/Projects/DataScience/india_soilhealth/data\"\n",
    "index_filepath = \"/Users/gopal/Projects/DataScience/india_soilhealth/index\"\n",
    "download_filepath = \"/Users/gopal/Downloads/NutrientsStatusReportFarmerWise.csv\""
   ]
  },
  {
   "cell_type": "code",
   "execution_count": 147,
   "metadata": {},
   "outputs": [],
   "source": [
    "# elem = driver.find_element_by_name(\"q\")\n",
    "# elem.clear()\n",
    "# elem.send_keys(\"pycon\")"
   ]
  },
  {
   "cell_type": "code",
   "execution_count": 148,
   "metadata": {},
   "outputs": [],
   "source": [
    "# elem.send_keys(Keys.RETURN)"
   ]
  },
  {
   "cell_type": "code",
   "execution_count": 149,
   "metadata": {},
   "outputs": [],
   "source": [
    "driver.get(\"https://soilhealth.dac.gov.in/PublicReports/NutrientsStatusReportFarmerWise\")"
   ]
  },
  {
   "cell_type": "code",
   "execution_count": 150,
   "metadata": {},
   "outputs": [],
   "source": [
    "\n",
    "# for i in range(len(state_dropdown.options)):\n",
    "#     if i > 0:\n",
    "#         print(state_dropdown.options[i].get_attribute('innerText'), state_dropdown.options[i].get_attribute('index'))"
   ]
  },
  {
   "cell_type": "code",
   "execution_count": 151,
   "metadata": {},
   "outputs": [],
   "source": [
    "# Load states from States dropdown\n",
    "state_dropdown = Select(driver.find_element_by_name(\"State_Code\"))\n",
    "\n",
    "states = []\n",
    "states_index = []\n",
    "for i in range(len(state_dropdown.options)):\n",
    "    if i > 0:\n",
    "        states.append(state_dropdown.options[i].get_attribute('innerText'))\n",
    "        states_index.append(state_dropdown.options[i].get_attribute('index'))"
   ]
  },
  {
   "cell_type": "code",
   "execution_count": 152,
   "metadata": {},
   "outputs": [],
   "source": [
    "si = 3\n",
    "state_dropdown.select_by_index(states_index[si])\n",
    "state_name = re.sub(\"\\s\",\"\",states[si])\n",
    "sleep(2)\n",
    "# print(states[si]  + \" \" + states_index[si])"
   ]
  },
  {
   "cell_type": "code",
   "execution_count": 153,
   "metadata": {},
   "outputs": [],
   "source": [
    "# Load districts from dropdown\n",
    "district_dropdown = Select(driver.find_element_by_name(\"District_Code\"))\n",
    "\n",
    "districts = []\n",
    "districts_index = []\n",
    "for i in range(len(district_dropdown.options)):\n",
    "    if i > 0:\n",
    "        districts.append(district_dropdown.options[i].get_attribute('innerText'))\n",
    "        districts_index.append(district_dropdown.options[i].get_attribute('index'))"
   ]
  },
  {
   "cell_type": "code",
   "execution_count": 164,
   "metadata": {},
   "outputs": [],
   "source": [
    "# Save index of all subdistricts within the district\n",
    "data = list(zip(np.repeat(states[si], len(villages)), \n",
    "                districts))\n",
    "\n",
    "state_districts_df = pd.DataFrame(data, columns = ['State', 'District'])\n",
    "state_filepath = os.path.join(index_filepath, state_name + \"_districts.csv\")\n",
    "state_districts_df.to_csv(state_filepath)"
   ]
  },
  {
   "cell_type": "code",
   "execution_count": 157,
   "metadata": {},
   "outputs": [],
   "source": [
    "di = 1\n",
    "district_dropdown.select_by_index(districts_index[di])\n",
    "district_name = re.sub(\"\\s\",\"\",districts[di])\n",
    "\n",
    "sleep(2)\n",
    "\n",
    "# Load subdistricts from dropdown\n",
    "subdist_dropdown = Select(driver.find_element_by_name(\"sub_district_code\"))\n",
    "\n",
    "subdists = []\n",
    "subdist_index = []\n",
    "for i in range(len(subdist_dropdown.options)):\n",
    "    if i > 0:\n",
    "        subdists.append(subdist_dropdown.options[i].get_attribute('innerText'))\n",
    "        subdist_index.append(subdist_dropdown.options[i].get_attribute('index'))"
   ]
  },
  {
   "cell_type": "code",
   "execution_count": 165,
   "metadata": {},
   "outputs": [],
   "source": [
    "# Save index of all subdistricts within the district\n",
    "data = list(zip(np.repeat(states[si], len(villages)), \n",
    "                np.repeat(districts[di], len(villages)), \n",
    "                subdists))\n",
    "\n",
    "district_subdists_df = pd.DataFrame(data, columns = ['State', 'District', 'Subdistrict'])\n",
    "district_filepath = os.path.join(index_filepath, state_name + \"-\" + district_name + \"_subdists.csv\")\n",
    "district_subdists_df.to_csv(district_filepath)"
   ]
  },
  {
   "cell_type": "code",
   "execution_count": 159,
   "metadata": {},
   "outputs": [],
   "source": [
    "subdist_dropdown.select_by_index(subdist_index[bi])\n",
    "subdist_name = re.sub(\"\\s\",\"\",subdists[bi])\n",
    "\n",
    "sleep(2)\n",
    "\n",
    "# Load villages from dropdown\n",
    "village_dropdown = Select(driver.find_element_by_name(\"Village_Code\"))\n",
    "\n",
    "villages = []\n",
    "villages_index = []\n",
    "for i in range(len(village_dropdown.options)):\n",
    "    if i > 0:\n",
    "        villages.append(village_dropdown.options[i].get_attribute('innerText'))\n",
    "        villages_index.append(village_dropdown.options[i].get_attribute('index'))"
   ]
  },
  {
   "cell_type": "code",
   "execution_count": 166,
   "metadata": {},
   "outputs": [],
   "source": [
    "# Save index of all villages within the subdistrict\n",
    "data = list(zip(np.repeat(states[si], len(villages)), \n",
    "                np.repeat(districts[di], len(villages)), \n",
    "                np.repeat(subdists[bi], len(villages)),\n",
    "                villages))\n",
    "\n",
    "subdist_villages_df = pd.DataFrame(data, columns = ['State', 'District', 'Subdistrict', 'Village'])\n",
    "subdistrict_filepath = os.path.join(index_filepath, state_name + \"-\" + district_name + \"-\" + subdist_name + \"_villages.csv\")\n",
    "subdist_villages_df.to_csv(subdistrict_filepath)"
   ]
  },
  {
   "cell_type": "code",
   "execution_count": 118,
   "metadata": {},
   "outputs": [],
   "source": [
    "# Switch to village\n",
    "for vi in range(len(villages_index)):\n",
    "    \n",
    "    village_name = re.sub(\"\\s\",\"\",villages[vi])\n",
    "    village_filename = os.path.join(state_name + \"_\" + district_name + \"_\" + subdist_name + \"_\" + village_name + \".csv\")\n",
    "    village_filepath = os.path.join(data_filepath, village_filename)\n",
    "    \n",
    "\n",
    "    if not os.path.isfile(village_filepath):\n",
    "        driver.switch_to.default_content()\n",
    "\n",
    "        village_dropdown.select_by_index(villages_index[vi])\n",
    "        sleep(2)\n",
    "\n",
    "        view_button = driver.find_element_by_id('confirmLink')\n",
    "        view_button.click()\n",
    "\n",
    "        sleep(5)\n",
    "\n",
    "\n",
    "\n",
    "        # Switch to data display virtual frame\n",
    "        driver.switch_to.default_content()\n",
    "        driver.switch_to.frame(0)\n",
    "\n",
    "        # Save the data\n",
    "        save_button = driver.find_element_by_id('ReportViewer1_ctl05_ctl04_ctl00_ButtonImg')\n",
    "        save_button.click()\n",
    "        sleep(1)\n",
    "        csv_button = driver.find_element_by_link_text(\"CSV (comma delimited)\")\n",
    "        csv_button.click()\n",
    "\n",
    "        driver.switch_to.default_content()\n",
    "\n",
    "        # \n",
    "        sleep(5)\n",
    "        os.rename(download_filepath, village_filepath)"
   ]
  }
 ],
 "metadata": {
  "kernelspec": {
   "display_name": "Python 3",
   "language": "python",
   "name": "python3"
  },
  "language_info": {
   "codemirror_mode": {
    "name": "ipython",
    "version": 3
   },
   "file_extension": ".py",
   "mimetype": "text/x-python",
   "name": "python",
   "nbconvert_exporter": "python",
   "pygments_lexer": "ipython3",
   "version": "3.7.4"
  }
 },
 "nbformat": 4,
 "nbformat_minor": 2
}
